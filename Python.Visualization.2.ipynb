{
 "cells": [
  {
   "cell_type": "code",
   "execution_count": 3,
   "id": "b5f03770",
   "metadata": {},
   "outputs": [],
   "source": [
    "import numpy as np\n",
    "import pandas as pd\n",
    "import matplotlib.pyplot as plt"
   ]
  },
  {
   "cell_type": "code",
   "execution_count": 5,
   "id": "7a8fe97c",
   "metadata": {},
   "outputs": [
    {
     "data": {
      "text/html": [
       "<div>\n",
       "<style scoped>\n",
       "    .dataframe tbody tr th:only-of-type {\n",
       "        vertical-align: middle;\n",
       "    }\n",
       "\n",
       "    .dataframe tbody tr th {\n",
       "        vertical-align: top;\n",
       "    }\n",
       "\n",
       "    .dataframe thead th {\n",
       "        text-align: right;\n",
       "    }\n",
       "</style>\n",
       "<table border=\"1\" class=\"dataframe\">\n",
       "  <thead>\n",
       "    <tr style=\"text-align: right;\">\n",
       "      <th></th>\n",
       "      <th>Date</th>\n",
       "      <th>Category</th>\n",
       "      <th>Sales</th>\n",
       "      <th>Profit</th>\n",
       "      <th>Region</th>\n",
       "      <th>Customer_Age</th>\n",
       "    </tr>\n",
       "  </thead>\n",
       "  <tbody>\n",
       "    <tr>\n",
       "      <th>0</th>\n",
       "      <td>2023-01-01</td>\n",
       "      <td>C</td>\n",
       "      <td>403</td>\n",
       "      <td>31.874225</td>\n",
       "      <td>South</td>\n",
       "      <td>33</td>\n",
       "    </tr>\n",
       "    <tr>\n",
       "      <th>1</th>\n",
       "      <td>2023-01-02</td>\n",
       "      <td>D</td>\n",
       "      <td>436</td>\n",
       "      <td>57.718740</td>\n",
       "      <td>West</td>\n",
       "      <td>38</td>\n",
       "    </tr>\n",
       "    <tr>\n",
       "      <th>2</th>\n",
       "      <td>2023-01-03</td>\n",
       "      <td>B</td>\n",
       "      <td>316</td>\n",
       "      <td>57.962373</td>\n",
       "      <td>West</td>\n",
       "      <td>25</td>\n",
       "    </tr>\n",
       "    <tr>\n",
       "      <th>3</th>\n",
       "      <td>2023-01-04</td>\n",
       "      <td>C</td>\n",
       "      <td>406</td>\n",
       "      <td>25.294052</td>\n",
       "      <td>West</td>\n",
       "      <td>57</td>\n",
       "    </tr>\n",
       "    <tr>\n",
       "      <th>4</th>\n",
       "      <td>2023-01-05</td>\n",
       "      <td>B</td>\n",
       "      <td>591</td>\n",
       "      <td>83.833427</td>\n",
       "      <td>East</td>\n",
       "      <td>21</td>\n",
       "    </tr>\n",
       "  </tbody>\n",
       "</table>\n",
       "</div>"
      ],
      "text/plain": [
       "        Date Category  Sales     Profit Region  Customer_Age\n",
       "0 2023-01-01        C    403  31.874225  South            33\n",
       "1 2023-01-02        D    436  57.718740   West            38\n",
       "2 2023-01-03        B    316  57.962373   West            25\n",
       "3 2023-01-04        C    406  25.294052   West            57\n",
       "4 2023-01-05        B    591  83.833427   East            21"
      ]
     },
     "execution_count": 5,
     "metadata": {},
     "output_type": "execute_result"
    }
   ],
   "source": [
    "data = {\n",
    "    'Date': pd.date_range(start='2023-01-01', periods=30, freq='D'),\n",
    "    'Category': np.random.choice(['A', 'B', 'C', 'D'], size=30),\n",
    "    'Sales': np.random.randint(100, 1000, size=30),\n",
    "    'Profit': np.random.uniform(10, 100, size=30),\n",
    "    'Region': np.random.choice(['North', 'South', 'East', 'West'], size=30),\n",
    "    'Customer_Age': np.random.randint(18, 65, size=30)\n",
    "}\n",
    "\n",
    "df = pd.DataFrame(data)\n",
    "df.head()"
   ]
  },
  {
   "cell_type": "code",
   "execution_count": 6,
   "id": "02e5002f",
   "metadata": {},
   "outputs": [
    {
     "name": "stdout",
     "output_type": "stream",
     "text": [
      "Lets graph a bar plot of category vs sales\n"
     ]
    }
   ],
   "source": [
    "print(\"Lets graph a bar plot of category vs sales\")"
   ]
  },
  {
   "cell_type": "code",
   "execution_count": 23,
   "id": "cd3c7dd7",
   "metadata": {},
   "outputs": [
    {
     "data": {
      "text/html": [
       "<div>\n",
       "<style scoped>\n",
       "    .dataframe tbody tr th:only-of-type {\n",
       "        vertical-align: middle;\n",
       "    }\n",
       "\n",
       "    .dataframe tbody tr th {\n",
       "        vertical-align: top;\n",
       "    }\n",
       "\n",
       "    .dataframe thead th {\n",
       "        text-align: right;\n",
       "    }\n",
       "</style>\n",
       "<table border=\"1\" class=\"dataframe\">\n",
       "  <thead>\n",
       "    <tr style=\"text-align: right;\">\n",
       "      <th></th>\n",
       "      <th>Category</th>\n",
       "      <th>Sales</th>\n",
       "    </tr>\n",
       "  </thead>\n",
       "  <tbody>\n",
       "    <tr>\n",
       "      <th>0</th>\n",
       "      <td>A</td>\n",
       "      <td>4856</td>\n",
       "    </tr>\n",
       "    <tr>\n",
       "      <th>1</th>\n",
       "      <td>B</td>\n",
       "      <td>3950</td>\n",
       "    </tr>\n",
       "    <tr>\n",
       "      <th>2</th>\n",
       "      <td>C</td>\n",
       "      <td>4124</td>\n",
       "    </tr>\n",
       "    <tr>\n",
       "      <th>3</th>\n",
       "      <td>D</td>\n",
       "      <td>2254</td>\n",
       "    </tr>\n",
       "  </tbody>\n",
       "</table>\n",
       "</div>"
      ],
      "text/plain": [
       "  Category  Sales\n",
       "0        A   4856\n",
       "1        B   3950\n",
       "2        C   4124\n",
       "3        D   2254"
      ]
     },
     "execution_count": 23,
     "metadata": {},
     "output_type": "execute_result"
    }
   ],
   "source": [
    "data=df.groupby(\"Category\")[\"Sales\"].sum().reset_index()\n",
    "data"
   ]
  },
  {
   "cell_type": "code",
   "execution_count": 74,
   "id": "867721d2",
   "metadata": {},
   "outputs": [
    {
     "data": {
      "image/png": "[encoded data removed]",
      "text/plain": [
       "<Figure size 640x480 with 1 Axes>"
      ]
     },
     "metadata": {},
     "output_type": "display_data"
    }
   ],
   "source": [
    "plt.bar(data[\"Category\"], data[\"Sales\"], alpha=0.6)\n",
    "plt.xlabel(\"Category\")\n",
    "plt.ylabel(\"Sales\")\n",
    "plt.title(\"Category vs Sales\")\n",
    "plt.xticks(np.arange(0,4), [f\"{value}{cat}\" for value, cat in zip(data[\"Sales\"], data[\"Category\"])])\n",
    "plt.yticks(np.arange(1000,6000, 1000, dtype=int), [f\"{int(value/1000)}k\" for value in np.linspace(1000,5000, 5)])\n",
    "plt.show()"
   ]
  },
  {
   "cell_type": "code",
   "execution_count": 66,
   "id": "22b0c828",
   "metadata": {},
   "outputs": [
    {
     "name": "stdout",
     "output_type": "stream",
     "text": [
      "In above code lines, I use the xticks method to change the x values. I set x-values as sum of \n",
      "sales value and its corresponding category along x-axis. \n",
      "In the same, we an change y-values along y-axis using yticks method\n"
     ]
    }
   ],
   "source": [
    "print(\"In above code lines, I use the xticks method to change the x values. I set x-values as sum of \\nsales value and its corresponding category along x-axis. \\nIn the same, we an change y-values along y-axis using yticks method\")"
   ]
  },
  {
   "cell_type": "code",
   "execution_count": 84,
   "id": "2fefdc8d",
   "metadata": {},
   "outputs": [
    {
     "data": {
      "text/plain": [
       "Text(0.5, 1.0, 'Category vs Sales')"
      ]
     },
     "execution_count": 84,
     "metadata": {},
     "output_type": "execute_result"
    },
    {
     "data": {
      "image/png": "[encoded data removed]",
      "text/plain": [
       "<Figure size 640x480 with 1 Axes>"
      ]
     },
     "metadata": {},
     "output_type": "display_data"
    }
   ],
   "source": [
    "plt.bar(data[\"Category\"], data[\"Sales\"], alpha=0.6)\n",
    "plt.xlabel(\"Category\")\n",
    "plt.ylabel(\"Sales\")\n",
    "plt.ylim(0,6000)              #Here I increase the range of y-axis.\n",
    "plt.title(\"Category vs Sales\")"
   ]
  },
  {
   "cell_type": "code",
   "execution_count": 85,
   "id": "6531afdd",
   "metadata": {},
   "outputs": [
    {
     "name": "stdout",
     "output_type": "stream",
     "text": [
      "In above code, I use ylim() method to increase the range of y-axis. Likewise, we can use xlim() method \n",
      "to increase to decrease the range of x-axis.\n"
     ]
    }
   ],
   "source": [
    "print(\"In above code, I use ylim() method to increase the range of y-axis. Likewise, we can use xlim() method \\nto increase to decrease the range of x-axis.\")"
   ]
  },
  {
   "cell_type": "code",
   "execution_count": null,
   "id": "d89e74d3",
   "metadata": {},
   "outputs": [],
   "source": []
  }
 ],
 "metadata": {
  "kernelspec": {
   "display_name": "Python 3 (ipykernel)",
   "language": "python",
   "name": "python3"
  },
  "language_info": {
   "codemirror_mode": {
    "name": "ipython",
    "version": 3
   },
   "file_extension": ".py",
   "mimetype": "text/x-python",
   "name": "python",
   "nbconvert_exporter": "python",
   "pygments_lexer": "ipython3",
   "version": "3.11.5"
  }
 },
 "nbformat": 4,
 "nbformat_minor": 5
}
